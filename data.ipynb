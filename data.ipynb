{
 "metadata": {
  "language_info": {
   "codemirror_mode": {
    "name": "ipython",
    "version": 3
   },
   "file_extension": ".py",
   "mimetype": "text/x-python",
   "name": "python",
   "nbconvert_exporter": "python",
   "pygments_lexer": "ipython3",
   "version": "3.8.3-final"
  },
  "orig_nbformat": 2,
  "kernelspec": {
   "name": "python3",
   "display_name": "Python 3.8.3 64-bit ('dataviz': conda)",
   "metadata": {
    "interpreter": {
     "hash": "27e7509502c34287bbbb6eb6cf0a9167d3966aea79368c1229f404e857d155b5"
    }
   }
  }
 },
 "nbformat": 4,
 "nbformat_minor": 2,
 "cells": [
  {
   "cell_type": "code",
   "execution_count": 1,
   "metadata": {},
   "outputs": [],
   "source": [
    "import os\n",
    "import requests\n",
    "import pandas as pd\n",
    "from multiprocessing.dummy import Pool"
   ]
  },
  {
   "cell_type": "code",
   "execution_count": 3,
   "metadata": {},
   "outputs": [
    {
     "output_type": "stream",
     "name": "stdout",
     "text": [
      "valid token: z7kdzbred89ygtz94qb1hgb9iqw2qh\n"
     ]
    }
   ],
   "source": [
    "# get token\n",
    "client_id = 'd4i7e6cxj7xmn7v1k2ck4olbxq8ml8'\n",
    "client_secret = 'q01dqdn9ve74fwfh31ir5fvoh8a4fz'\n",
    "token = None\n",
    "if os.path.exists('token.txt'):\n",
    "    with open('token.txt', 'r') as f:\n",
    "        token = f.read()\n",
    "    resp = requests.get('https://id.twitch.tv/oauth2/validate', headers={'Authorization': f'OAuth {token}'}).json()\n",
    "    if resp['expires_in'] <= 10:\n",
    "        token = None\n",
    "if token is None:\n",
    "    params = {\n",
    "        'client_id': client_id,\n",
    "        'client_secret': client_secret,\n",
    "        'grant_type': 'client_credentials'\n",
    "    }\n",
    "    resp = requests.post('https://id.twitch.tv/oauth2/token', params=params).json()\n",
    "    token = resp['access_token']\n",
    "    print('new token:', token)\n",
    "    with open('token.txt', 'w') as f:\n",
    "        f.write(token)\n",
    "else:\n",
    "    print('valid token:', token)\n",
    "headers = {\n",
    "    'Authorization': f'Bearer {token}',\n",
    "    'Client-Id': client_id\n",
    "}"
   ]
  },
  {
   "cell_type": "code",
   "execution_count": 4,
   "metadata": {},
   "outputs": [
    {
     "output_type": "stream",
     "name": "stdout",
     "text": [
      "Fortnite 668726 followers\n",
      "LCS 1784081 followers\n",
      "dota2ti 4600246 followers\n",
      "OverwatchLeague 4151896 followers\n",
      "ESL_CSGO 1461190 followers\n"
     ]
    }
   ],
   "source": [
    "# get user_ids and followers\n",
    "users = ['Fortnite', 'LCS', 'dota2ti', 'OverwatchLeague', 'ESL_CSGO']\n",
    "params = '&'.join([f'login={user}' for user in users])\n",
    "resp = requests.get(f'https://api.twitch.tv/helix/users?{params}', headers=headers).json()\n",
    "user_ids = [item['id'] for item in resp['data']]\n",
    "followers = []\n",
    "for user, user_id in zip(users, user_ids):\n",
    "    resp = requests.get('https://api.twitch.tv/helix/users/follows', params={'to_id': user_id}, headers=headers).json()\n",
    "    followers.append(resp['total'])\n",
    "    print(user, followers[-1], 'followers')\n",
    "\n"
   ]
  },
  {
   "cell_type": "code",
   "execution_count": 5,
   "metadata": {},
   "outputs": [
    {
     "output_type": "stream",
     "name": "stdout",
     "text": [
      "dota2ti 2018-01-22T06:32:39Z\t\t"
     ]
    }
   ],
   "source": [
    "# scraping task\n",
    "fields = ['title', 'published_at', 'view_count', 'duration']\n",
    "def task(user: str, user_id: str, follower: int):\n",
    "    df = pd.DataFrame(columns=fields)\n",
    "    cursor = None\n",
    "    while True:\n",
    "        params = {'user_id': user_id, 'first': 100}\n",
    "        if cursor is not None:\n",
    "            params['after'] = cursor\n",
    "        resp = requests.get('https://api.twitch.tv/helix/videos', params=params, headers=headers).json()\n",
    "        data = resp['data']\n",
    "        if len(data) == 0 or int(data[0]['published_at'][:4]) < 2018:\n",
    "            break\n",
    "        print(f'\\r{user} {data[0][\"published_at\"]}\\t\\t', end='')\n",
    "        cursor = resp['pagination']['cursor']\n",
    "        for item in data:\n",
    "            df.loc[item['id']] = [' '.join(str(item[field]).split()) for field in fields]\n",
    "    df.to_csv(f'data/{user}_{follower}.csv')\n",
    "def task_wrapper(arg):\n",
    "    task(*arg)\n",
    "\n",
    "# start parallel scraping\n",
    "pool = Pool(len(users))\n",
    "pool.map(task_wrapper, zip(users, user_ids, followers))\n",
    "pool.close()\n",
    "pool.join()\n"
   ]
  },
  {
   "cell_type": "code",
   "execution_count": null,
   "metadata": {},
   "outputs": [],
   "source": []
  }
 ]
}